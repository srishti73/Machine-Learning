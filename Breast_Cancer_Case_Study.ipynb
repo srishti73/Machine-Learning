{
  "nbformat": 4,
  "nbformat_minor": 0,
  "metadata": {
    "colab": {
      "provenance": [],
      "authorship_tag": "ABX9TyMrlcxeZg6Om09oou80U7zm",
      "include_colab_link": true
    },
    "kernelspec": {
      "name": "python3",
      "display_name": "Python 3"
    },
    "language_info": {
      "name": "python"
    }
  },
  "cells": [
    {
      "cell_type": "markdown",
      "metadata": {
        "id": "view-in-github",
        "colab_type": "text"
      },
      "source": [
        "<a href=\"https://colab.research.google.com/github/srishti73/Machine-Learning/blob/main/Breast_Cancer_Case_Study.ipynb\" target=\"_parent\"><img src=\"https://colab.research.google.com/assets/colab-badge.svg\" alt=\"Open In Colab\"/></a>"
      ]
    },
    {
      "cell_type": "markdown",
      "source": [
        "Importing different Libraries"
      ],
      "metadata": {
        "id": "Mk-w2D2BQS4-"
      }
    },
    {
      "cell_type": "code",
      "execution_count": 1,
      "metadata": {
        "id": "AEyGut6WP01o"
      },
      "outputs": [],
      "source": [
        "import pandas as pd\n",
        "import numpy as np\n",
        "import matplotlib.pyplot as plt"
      ]
    },
    {
      "cell_type": "markdown",
      "source": [
        "Importing the dataset"
      ],
      "metadata": {
        "id": "N4zwyeCiQWJa"
      }
    },
    {
      "cell_type": "code",
      "source": [
        "dataset=pd.read_csv('breast_cancer.csv')\n",
        "X=dataset.iloc[:,:-1].values\n",
        "y=dataset.iloc[:,-1].values\n"
      ],
      "metadata": {
        "id": "7UDu1HeKQYiD"
      },
      "execution_count": 14,
      "outputs": []
    },
    {
      "cell_type": "markdown",
      "source": [
        "Splitting the dataset into training and test set"
      ],
      "metadata": {
        "id": "AmQM6fPoRWzq"
      }
    },
    {
      "cell_type": "code",
      "source": [
        "from sklearn.model_selection import train_test_split\n",
        "X_train, X_test, y_train,y_test= train_test_split(x,y,test_size=0.2, random_state=0)"
      ],
      "metadata": {
        "id": "c_FK3elfRdoQ"
      },
      "execution_count": 15,
      "outputs": []
    },
    {
      "cell_type": "markdown",
      "source": [
        "Training the Logistic Regression model on the training set"
      ],
      "metadata": {
        "id": "aJrGjiG4SA3r"
      }
    },
    {
      "cell_type": "code",
      "source": [
        "from sklearn.linear_model import LogisticRegression\n",
        "classifier= LogisticRegression(random_state=0)\n",
        "classifier.fit(X_train, y_train)"
      ],
      "metadata": {
        "colab": {
          "base_uri": "https://localhost:8080/"
        },
        "id": "Z7rN1XykSHT-",
        "outputId": "93a8a4ee-d670-453b-8176-95cfb42c5fdd"
      },
      "execution_count": 16,
      "outputs": [
        {
          "output_type": "execute_result",
          "data": {
            "text/plain": [
              "LogisticRegression(random_state=0)"
            ]
          },
          "metadata": {},
          "execution_count": 16
        }
      ]
    },
    {
      "cell_type": "markdown",
      "source": [
        "Predicting the Test set Results"
      ],
      "metadata": {
        "id": "V6zKVz-2SiH-"
      }
    },
    {
      "cell_type": "code",
      "source": [
        "y_pred= classifier.predict(X_test)\n"
      ],
      "metadata": {
        "id": "NU4Y4OhZSkSm"
      },
      "execution_count": 17,
      "outputs": []
    },
    {
      "cell_type": "markdown",
      "source": [
        "Making the confusion matrix"
      ],
      "metadata": {
        "id": "qOC8kFWkTViU"
      }
    },
    {
      "cell_type": "code",
      "source": [
        "from sklearn.metrics import confusion_matrix\n",
        "cm= confusion_matrix(y_test, y_pred)\n",
        "print(cm)\n",
        "#TF\n",
        "#TF"
      ],
      "metadata": {
        "colab": {
          "base_uri": "https://localhost:8080/"
        },
        "id": "Hl5jgaUGTXpc",
        "outputId": "03109419-c99c-46cc-d677-c2d1086a6fe0"
      },
      "execution_count": 18,
      "outputs": [
        {
          "output_type": "stream",
          "name": "stdout",
          "text": [
            "[[87  0]\n",
            " [50  0]]\n"
          ]
        }
      ]
    },
    {
      "cell_type": "markdown",
      "source": [
        "Computing the Accuracy with k-fold cross validation"
      ],
      "metadata": {
        "id": "bz-zKYJOT4la"
      }
    },
    {
      "cell_type": "code",
      "source": [
        "from sklearn.model_selection import cross_val_score\n",
        "accuracy= cross_val_score(estimator=classifier, X = X_train, y = y_train,cv=10) \n",
        "#cv is the number of folds\n",
        "print(\"Accuracy: {:.2f} %\".format(accuracy.mean()*100))\n",
        "print(\"Standard Deviation: {:.2f} %\".format(accuracy.std()*100))"
      ],
      "metadata": {
        "colab": {
          "base_uri": "https://localhost:8080/"
        },
        "id": "EtL9nKOhURKC",
        "outputId": "56fe859d-7d1b-49a5-9b15-e9df4cb024b8"
      },
      "execution_count": 21,
      "outputs": [
        {
          "output_type": "stream",
          "name": "stdout",
          "text": [
            "Accuracy: 65.38 %\n",
            "Standard Deviation: 0.51 %\n"
          ]
        }
      ]
    }
  ]
}