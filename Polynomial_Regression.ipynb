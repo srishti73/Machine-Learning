{
  "nbformat": 4,
  "nbformat_minor": 0,
  "metadata": {
    "colab": {
      "provenance": [],
      "collapsed_sections": [],
      "authorship_tag": "ABX9TyNgcS4gEL7JyZXid1mCjZMV",
      "include_colab_link": true
    },
    "kernelspec": {
      "name": "python3",
      "display_name": "Python 3"
    },
    "language_info": {
      "name": "python"
    }
  },
  "cells": [
    {
      "cell_type": "markdown",
      "metadata": {
        "id": "view-in-github",
        "colab_type": "text"
      },
      "source": [
        "<a href=\"https://colab.research.google.com/github/srishti73/Machine-Learning/blob/main/Polynomial_Regression.ipynb\" target=\"_parent\"><img src=\"https://colab.research.google.com/assets/colab-badge.svg\" alt=\"Open In Colab\"/></a>"
      ]
    },
    {
      "cell_type": "code",
      "execution_count": 1,
      "metadata": {
        "id": "CpG0u-25S1Jq"
      },
      "outputs": [],
      "source": [
        "import pandas as pd\n",
        "import numpy as np\n",
        "import matplotlib.pyplot as plt\n"
      ]
    },
    {
      "cell_type": "markdown",
      "source": [
        "Importing the dataset"
      ],
      "metadata": {
        "id": "wKYDBMw4IfIW"
      }
    },
    {
      "cell_type": "code",
      "source": [
        "dataset= pd.read_csv('Position_Salaries.csv')\n",
        "x=dataset.iloc[:,1:-1].values\n",
        "y=dataset.iloc[:,-1].values"
      ],
      "metadata": {
        "id": "mGC1XhNrILgf"
      },
      "execution_count": 2,
      "outputs": []
    },
    {
      "cell_type": "markdown",
      "source": [
        "Training linear Regression model on the whole data set"
      ],
      "metadata": {
        "id": "e-iWPmHzLu2R"
      }
    },
    {
      "cell_type": "code",
      "source": [
        "from sklearn.linear_model import LinearRegression\n",
        "lin_reg=LinearRegression()\n",
        "lin_reg.fit(x,y)"
      ],
      "metadata": {
        "colab": {
          "base_uri": "https://localhost:8080/"
        },
        "id": "JyrlNHraNOeN",
        "outputId": "1444e967-2c4e-415c-f1c5-d73f150a99ca"
      },
      "execution_count": 3,
      "outputs": [
        {
          "output_type": "execute_result",
          "data": {
            "text/plain": [
              "LinearRegression()"
            ]
          },
          "metadata": {},
          "execution_count": 3
        }
      ]
    },
    {
      "cell_type": "markdown",
      "source": [
        "Training Polynomial Regression model on the whole data set"
      ],
      "metadata": {
        "id": "5eD9Ae9hLz7U"
      }
    },
    {
      "cell_type": "code",
      "source": [
        "from sklearn.preprocessing import PolynomialFeatures\n",
        "poly_reg= PolynomialFeatures(degree=2) #degree can be changed , ideally use 4 here\n",
        "#create a matrix of features eg x is already there x^2 will be created as degree is 2\n",
        "x_poly= poly_reg.fit_transform(x)\n",
        "lin_reg_2= LinearRegression() #this will be trained on the new matrix of features\n",
        "lin_reg_2.fit(x_poly,y)"
      ],
      "metadata": {
        "colab": {
          "base_uri": "https://localhost:8080/"
        },
        "id": "CqAgGyoKN6Iy",
        "outputId": "87f82200-4334-45c1-dedb-41f4b25552f8"
      },
      "execution_count": 10,
      "outputs": [
        {
          "output_type": "execute_result",
          "data": {
            "text/plain": [
              "LinearRegression()"
            ]
          },
          "metadata": {},
          "execution_count": 10
        }
      ]
    },
    {
      "cell_type": "markdown",
      "source": [
        "Visualizing Linear Regression results"
      ],
      "metadata": {
        "id": "juBaULsqL3ml"
      }
    },
    {
      "cell_type": "code",
      "source": [
        "plt.scatter(x,y,color='red')\n",
        "plt.plot(x,lin_reg.predict(x),color='blue')\n",
        "plt.title('Truth or bluff(Linear Regression)')\n",
        "plt.xlabel('Position level')\n",
        "plt.ylabel('Salary')\n",
        "plt.show()"
      ],
      "metadata": {
        "id": "BvixSKYqQFlC"
      },
      "execution_count": null,
      "outputs": []
    },
    {
      "cell_type": "markdown",
      "source": [
        "VisualizingPolynomial Regression results"
      ],
      "metadata": {
        "id": "OSs7YL0lL3s6"
      }
    },
    {
      "cell_type": "code",
      "source": [
        "plt.scatter(x,y,color='red')\n",
        "plt.plot(x,lin_reg_2.predict(x_poly),color='blue')\n",
        "plt.title('Truth or bluff(Polynomial Regression)')\n",
        "plt.xlabel('Position level')\n",
        "plt.ylabel('Salary')\n",
        "plt.show()"
      ],
      "metadata": {
        "id": "cRuTOlmgRHKS"
      },
      "execution_count": null,
      "outputs": []
    },
    {
      "cell_type": "markdown",
      "source": [
        "Visualizing Polynomial Regression results( for higher resolution and smoother curve)"
      ],
      "metadata": {
        "id": "mzFheKm0MCgb"
      }
    },
    {
      "cell_type": "code",
      "source": [
        "#instead of taking integers 0,1,2...10, we take 0,0.1,0.2.....10 \n",
        "x_grid = np.arange(min(x), max(x),0.1) \n",
        "x_grid= x_grid.reshape(len(x_grid),1)\n",
        "plt.scatter(x,y,color='red')\n",
        "plt.plot(x_grid,lin_reg_2.predict(poly_reg.fit_transform(x_grid)), color='blue')\n",
        "plt.title('Truth or bluff(Polynomial Regression)')\n",
        "plt.xlabel('Position level')\n",
        "plt.ylabel('Salary')\n",
        "plt.show()"
      ],
      "metadata": {
        "id": "fBUz7YUhRvuL"
      },
      "execution_count": null,
      "outputs": []
    },
    {
      "cell_type": "markdown",
      "source": [
        "Predicting new reult with Linear Regression"
      ],
      "metadata": {
        "id": "BQ4aj9A4MClw"
      }
    },
    {
      "cell_type": "code",
      "source": [
        "lin_reg.predict([[6.5]])"
      ],
      "metadata": {
        "colab": {
          "base_uri": "https://localhost:8080/"
        },
        "id": "a8079xziS3eC",
        "outputId": "c6075a0b-5438-4f64-937e-a6d23e384efc"
      },
      "execution_count": 17,
      "outputs": [
        {
          "output_type": "execute_result",
          "data": {
            "text/plain": [
              "array([330378.78787879])"
            ]
          },
          "metadata": {},
          "execution_count": 17
        }
      ]
    },
    {
      "cell_type": "markdown",
      "source": [
        "Predicting new result with Polynomial Regression"
      ],
      "metadata": {
        "id": "zr34WgAlMRHy"
      }
    },
    {
      "cell_type": "code",
      "source": [
        "lin_reg_2.predict(poly_reg.fit_transform([[6.5]]))"
      ],
      "metadata": {
        "colab": {
          "base_uri": "https://localhost:8080/"
        },
        "id": "DJxKjWN6TeyY",
        "outputId": "cd4221ad-cd3d-4dd4-bfd0-339b995b80b0"
      },
      "execution_count": 18,
      "outputs": [
        {
          "output_type": "execute_result",
          "data": {
            "text/plain": [
              "array([189498.10606061])"
            ]
          },
          "metadata": {},
          "execution_count": 18
        }
      ]
    }
  ]
}